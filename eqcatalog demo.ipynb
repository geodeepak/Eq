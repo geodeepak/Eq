{
 "metadata": {
  "name": "eqcatalog demo"
 },
 "nbformat": 3,
 "nbformat_minor": 0,
 "worksheets": [
  {
   "cells": [
    {
     "cell_type": "heading",
     "level": 1,
     "metadata": {},
     "source": [
      "Introduction to the eqcatalog module"
     ]
    },
    {
     "cell_type": "markdown",
     "metadata": {},
     "source": [
      "Matplotlib figure size configuration"
     ]
    },
    {
     "cell_type": "code",
     "collapsed": false,
     "input": [
      "figsize(9, 9)"
     ],
     "language": "python",
     "metadata": {},
     "outputs": []
    },
    {
     "cell_type": "heading",
     "level": 3,
     "metadata": {},
     "source": [
      "Importing"
     ]
    },
    {
     "cell_type": "markdown",
     "metadata": {},
     "source": [
      "The eqcatalog module has the following dependencies:\n",
      "\n",
      "- numpy, scipy, matplotlib\n",
      "- MySQLdb\n",
      "- hazardlib (formerly nhlib), part of OpenQuake, available at https://github.com/gem/oq-hazardlib\n",
      "- all functionality related to source models (splitting into zone catalogs, plotting) require the osr and ogr modules (part of GDAL), and the availability of the corresponding MapInfo files in D:\\GIS-data\\KSB-ORB\\Source Zone Models\n",
      "- the methods analyse_completeness_Stepp, decluster, analyse_Mmax, and analyse_recurrence require mtoolkit, this is the hazard modellers toolkit, a side project of OpenQuake, available at https://github.com/gem/oq-hazard-modeller"
     ]
    },
    {
     "cell_type": "code",
     "collapsed": false,
     "input": [
      "import eqcatalog.eqcatalog as eqc"
     ],
     "language": "python",
     "metadata": {},
     "outputs": []
    },
    {
     "cell_type": "markdown",
     "metadata": {},
     "source": [
      "Query the database based on region, time, magnitude, focal depth or ID. Take care with the application of magnitude bounds, as earthquakes in the database have different magnitude types, and magnitudes are not converted to a common type. MW takes precedence over MS, which in turn takes precedence over ML."
     ]
    },
    {
     "cell_type": "code",
     "collapsed": false,
     "input": [
      "catalog = eqc.read_catalogSQL(region=(0,8,49,52), start_date=1350, Mmin=None, verbose=True)\n",
      "print len(catalog)"
     ],
     "language": "python",
     "metadata": {},
     "outputs": []
    },
    {
     "cell_type": "markdown",
     "metadata": {},
     "source": [
      "The result is an EQCatalog object, which is a collection of LocalEarthquake objects."
     ]
    },
    {
     "cell_type": "heading",
     "level": 2,
     "metadata": {},
     "source": [
      "LocalEarthquake object"
     ]
    },
    {
     "cell_type": "markdown",
     "metadata": {},
     "source": [
      "Select an earthquake by indexing the catalog:"
     ]
    },
    {
     "cell_type": "code",
     "collapsed": false,
     "input": [
      "eqr = catalog[-1]"
     ],
     "language": "python",
     "metadata": {},
     "outputs": []
    },
    {
     "cell_type": "markdown",
     "metadata": {},
     "source": [
      "LocalEarthquake has the following properties:\n",
      "ID, datetime, (date), (time), lon, lat, depth, ML, MS, MW, name, intensity_max, macro_radius, errh, errz, errt, errM"
     ]
    },
    {
     "cell_type": "code",
     "collapsed": true,
     "input": [
      "eqr.name, eqr.date.isoformat(), eqr.time.isoformat(), eqr.ML, eqr.depth"
     ],
     "language": "python",
     "metadata": {},
     "outputs": []
    },
    {
     "cell_type": "markdown",
     "metadata": {},
     "source": [
      "LocalEarthquake objects support magnitude conversion, with the relations specified as a dictionary. MS takes precedence over ML, and MW over MS where appropriate. Note that specifying None will apply sensible default conversion relations."
     ]
    },
    {
     "cell_type": "code",
     "collapsed": false,
     "input": [
      "eqr.get_MW({\"ML\": \"hinzen\", \"MS\": \"geller\"})"
     ],
     "language": "python",
     "metadata": {},
     "outputs": []
    },
    {
     "cell_type": "markdown",
     "metadata": {},
     "source": [
      "Geographic functionality"
     ]
    },
    {
     "cell_type": "code",
     "collapsed": false,
     "input": [
      "Uccle = (4.3333, 50.8000)\n",
      "print eqr.epicentral_distance(Uccle), eqr.hypocentral_distance(Uccle)\n",
      "print eqr.azimuth_to(Uccle), eqr.azimuth_from(Uccle)"
     ],
     "language": "python",
     "metadata": {},
     "outputs": []
    },
    {
     "cell_type": "markdown",
     "metadata": {},
     "source": [
      "Upcoming: link to macroseismic data points, focal mechanism, ..."
     ]
    },
    {
     "cell_type": "heading",
     "level": 2,
     "metadata": {},
     "source": [
      "EQCatalog object"
     ]
    },
    {
     "cell_type": "heading",
     "level": 3,
     "metadata": {},
     "source": [
      "Getting information"
     ]
    },
    {
     "cell_type": "markdown",
     "metadata": {},
     "source": [
      "Number of earthquakes"
     ]
    },
    {
     "cell_type": "code",
     "collapsed": false,
     "input": [
      "len(catalog)"
     ],
     "language": "python",
     "metadata": {},
     "outputs": []
    },
    {
     "cell_type": "markdown",
     "metadata": {},
     "source": [
      "Bounds"
     ]
    },
    {
     "cell_type": "code",
     "collapsed": false,
     "input": [
      "print catalog.Tminmax()\n",
      "print catalog.Mminmax(Mtype=\"MS\", Mrelation={\"ML\": \"ambraseys\"})\n",
      "print catalog.depth_minmax()\n",
      "print catalog.region, catalog.get_region()"
     ],
     "language": "python",
     "metadata": {},
     "outputs": []
    },
    {
     "cell_type": "markdown",
     "metadata": {},
     "source": [
      "Total seismic moment, and moment rate"
     ]
    },
    {
     "cell_type": "code",
     "collapsed": false,
     "input": [
      "Mrelation = {\"ML\": \"hinzen\", \"MS\": \"geller\"}\n",
      "print catalog.get_M0(Mrelation=Mrelation)\n",
      "print catalog.get_M0rate(Mrelation=Mrelation)"
     ],
     "language": "python",
     "metadata": {},
     "outputs": []
    },
    {
     "cell_type": "markdown",
     "metadata": {},
     "source": [
      "Plot map"
     ]
    },
    {
     "cell_type": "code",
     "collapsed": false,
     "input": [
      "catalog.plot_map(source_model=\"Seismotectonic\", projection=\"laea\")"
     ],
     "language": "python",
     "metadata": {},
     "outputs": []
    },
    {
     "cell_type": "heading",
     "level": 3,
     "metadata": {},
     "source": [
      "Subselecting"
     ]
    },
    {
     "cell_type": "markdown",
     "metadata": {},
     "source": [
      "By slicing or indexing"
     ]
    },
    {
     "cell_type": "code",
     "collapsed": false,
     "input": [
      "subcatalog = catalog[-100:]\n",
      "print len(subcatalog)"
     ],
     "language": "python",
     "metadata": {},
     "outputs": []
    },
    {
     "cell_type": "code",
     "collapsed": false,
     "input": [
      "subcatalog = catalog[range(0, len(catalog), 2)]\n",
      "print len(subcatalog)"
     ],
     "language": "python",
     "metadata": {},
     "outputs": []
    },
    {
     "cell_type": "markdown",
     "metadata": {},
     "source": [
      "Looping is of course supported too:"
     ]
    },
    {
     "cell_type": "code",
     "collapsed": false,
     "input": [
      "for eq in catalog:\n",
      "    if eq.MS:\n",
      "        print eq.name, eq.MS"
     ],
     "language": "python",
     "metadata": {},
     "outputs": []
    },
    {
     "cell_type": "markdown",
     "metadata": {},
     "source": [
      "Get a particular record by ID or by indexing"
     ]
    },
    {
     "cell_type": "code",
     "collapsed": false,
     "input": [
      "eqr = catalog.get_record(987)\n",
      "print eqr.name, eqr.ML"
     ],
     "language": "python",
     "metadata": {},
     "outputs": []
    },
    {
     "cell_type": "markdown",
     "metadata": {},
     "source": [
      "By region, time, magnitude, depth"
     ]
    },
    {
     "cell_type": "code",
     "collapsed": false,
     "input": [
      "historical_catalog = catalog.subselect(end_date=1910)\n",
      "print len(historical_catalog)\n",
      "print historical_catalog.Mminmax(Mtype=\"MS\")"
     ],
     "language": "python",
     "metadata": {},
     "outputs": []
    },
    {
     "cell_type": "code",
     "collapsed": false,
     "input": [
      "eqc.plot_catalogs_map([catalog, historical_catalog], labels=[\"Full\", \"Historical\"])"
     ],
     "language": "python",
     "metadata": {},
     "outputs": []
    },
    {
     "cell_type": "markdown",
     "metadata": {},
     "source": [
      "Based on completeness"
     ]
    },
    {
     "cell_type": "code",
     "collapsed": false,
     "input": [
      "completeness = eqc.Completeness_Rosset\n",
      "cc_catalog = catalog.subselect_completeness(Mtype=\"MS\", Mrelation={\"ML\": \"ambraseys\"}, completeness=completeness)\n",
      "print len(cc_catalog)"
     ],
     "language": "python",
     "metadata": {},
     "outputs": []
    },
    {
     "cell_type": "code",
     "collapsed": false,
     "input": [
      "eqc.plot_catalogs_map([catalog, cc_catalog], labels=[\"Full\", \"CC\"])"
     ],
     "language": "python",
     "metadata": {},
     "outputs": []
    },
    {
     "cell_type": "code",
     "collapsed": false,
     "input": [
      "catalog.subselect(start_date=1700, Mmin=0.1).plot_Time_Magnitude(Mtype=\"MS\", completeness=eqc.Completeness_Rosset)"
     ],
     "language": "python",
     "metadata": {},
     "outputs": []
    },
    {
     "cell_type": "markdown",
     "metadata": {},
     "source": [
      "Split catalog according to source-zone model (requires GDAL module and MapInfo tables in GIS-data folder)"
     ]
    },
    {
     "cell_type": "code",
     "collapsed": false,
     "input": [
      "zone_catalogs = catalog.split_into_zones(\"Seismotectonic\", verbose=False)\n",
      "for zone_id, zone_catalog in zone_catalogs.items():\n",
      "    print zone_id, len(zone_catalog)"
     ],
     "language": "python",
     "metadata": {},
     "outputs": []
    },
    {
     "cell_type": "code",
     "collapsed": false,
     "input": [
      "zone_catalogs[\"RVG\"].plot_map(source_model=\"Seismotectonic\")"
     ],
     "language": "python",
     "metadata": {},
     "outputs": []
    },
    {
     "cell_type": "heading",
     "level": 3,
     "metadata": {},
     "source": [
      "Analyse magnitude-frequency distribution"
     ]
    },
    {
     "cell_type": "markdown",
     "metadata": {},
     "source": [
      "Observed MFD"
     ]
    },
    {
     "cell_type": "code",
     "collapsed": false,
     "input": [
      "completeness = eqc.Completeness_Rosset\n",
      "observed_mfd = catalog.get_incremental_MFD(1.8, 6.7, 0.2, Mtype=\"MS\", Mrelation={\"ML\": \"ambraseys\"}, completeness=completeness)\n",
      "observed_mfd.plot(color='b')"
     ],
     "language": "python",
     "metadata": {},
     "outputs": []
    },
    {
     "cell_type": "markdown",
     "metadata": {},
     "source": [
      "Compute Gutenberg-Richter MFD using the method by Weichert (1980)"
     ]
    },
    {
     "cell_type": "code",
     "collapsed": false,
     "input": [
      "estimated_mfd = catalog.get_estimated_MFD(1.8, 6.7, 0.2, method=\"Weichert\", Mtype=\"MS\", Mrelation={\"ML\": \"ambraseys\"}, completeness=completeness, verbose=True)\n",
      "estimated_mfd.plot(color='r')"
     ],
     "language": "python",
     "metadata": {},
     "outputs": []
    },
    {
     "cell_type": "markdown",
     "metadata": {},
     "source": [
      "Both together"
     ]
    },
    {
     "cell_type": "code",
     "collapsed": false,
     "input": [
      "catalog.plot_MFD(1.8, 6.7, 0.2, method=\"Aki\", Mtype=\"MS\", Mrelation={\"ML\": \"ambraseys\"}, completeness=completeness)"
     ],
     "language": "python",
     "metadata": {},
     "outputs": []
    },
    {
     "cell_type": "heading",
     "level": 3,
     "metadata": {},
     "source": [
      "Declustering"
     ]
    },
    {
     "cell_type": "code",
     "collapsed": false,
     "input": [
      "rvg_catalog = zone_catalogs[\"RVG\"]\n",
      "main_shocks = rvg_catalog.decluster()[0]\n",
      "print len(rvg_catalog), len(main_shocks)"
     ],
     "language": "python",
     "metadata": {},
     "outputs": []
    },
    {
     "cell_type": "code",
     "collapsed": false,
     "input": [
      "eqc.plot_catalogs_map([rvg_catalog, main_shocks], labels=[\"Full\", \"Declustered\"], region=(5.75, 6.25, 51., 51.25))"
     ],
     "language": "python",
     "metadata": {},
     "outputs": []
    }
   ],
   "metadata": {}
  }
 ]
}